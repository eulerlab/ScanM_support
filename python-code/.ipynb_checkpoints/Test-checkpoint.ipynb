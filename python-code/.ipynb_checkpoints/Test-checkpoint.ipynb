{
 "cells": [
  {
   "cell_type": "code",
   "execution_count": 1,
   "id": "06af065e",
   "metadata": {},
   "outputs": [],
   "source": [
    "%load_ext autoreload"
   ]
  },
  {
   "cell_type": "code",
   "execution_count": 135,
   "id": "7144fca0",
   "metadata": {},
   "outputs": [],
   "source": [
    "%autoreload\n",
    "\n",
    "import numpy as np\n",
    "from scanm_smh import SMH\n",
    "from scanm_global import *"
   ]
  },
  {
   "cell_type": "code",
   "execution_count": 136,
   "id": "e189aacb",
   "metadata": {},
   "outputs": [
    {
     "name": "stdout",
     "output_type": "stream",
     "text": [
      "Opening file `M1_LR_GCL4_chirp.smh`\n",
      "Loading pre-header ...\n",
      "Loading parameters (key-value pairs) ...\n",
      "71 key-value pair(s) found\n",
      "->     0 String, ComputerName = euler14_01;\n",
      "->     1 String, UserName = eulerlab;\n",
      "->     2 String, OriginalPixelDataFileName = C:\\Users\\eulerlab\\Documents\\WaveMetrics\\Igor Pro 6 User Files\\ScanM_Data\\M1_LR_GCL4_chirp.smp;\n",
      "->     3 String, DateStamp = 2021-12-17;\n",
      "->     4 String, TimeStamp = 15-38-2-475;\n",
      "->     5 String, ScanMproductVersionAndTargetOS = 0.0.36.61_4;\n",
      "->     6 String, CallingProcessPath = C:\\Program Files (x86)\\WaveMetrics\\Igor Pro Folder\\Igor.exe;\n",
      "->     7 String, CallingProcessVersion = 6.3.7.2;\n",
      "->     8 UINT32, PixelSizeInBytes = 2;\n",
      "->     9 UINT32, StimulusChannelMask = 7;\n",
      "->    10 REAL32, MinVoltsAO = -4.000000;\n",
      "->    11 REAL32, MaxVoltsAO = 4.000000;\n",
      "->    12 UINT32, MaxStimulusBufferMapLength = 1;\n",
      "->    13 UINT32, Channel_0_StimulusBufferMapEntry_#0 = 0;\n",
      "->    14 UINT32, Channel_1_StimulusBufferMapEntry_#0 = 1;\n",
      "->    15 UINT32, Channel_2_StimulusBufferMapEntry_#0 = 2;\n",
      "->    16 UINT32, NumberOfStimulusBuffers = 3;\n",
      "->    17 UINT32, StimulusBufferLength_#0 = 5120;\n",
      "->    18 UINT32, StimulusBufferLength_#1 = 5120;\n",
      "->    19 UINT32, StimulusBufferLength_#2 = 5120;\n",
      "->    20 UINT32, InputChannelMask = 7;\n",
      "->    21 REAL32, Channel_0_TargetedStimulusDuration_µs = 128000.000000;\n",
      "->    22 REAL32, Channel_1_TargetedStimulusDuration_µs = 128000.000000;\n",
      "->    23 REAL32, Channel_2_TargetedStimulusDuration_µs = 128000.000000;\n",
      "->    24 REAL32, AO_A_Channel_0_RealStimulusDuration_µs = 128000.000000;\n",
      "->    25 REAL32, AO_A_Channel_1_RealStimulusDuration_µs = 128000.000000;\n",
      "->    26 REAL32, AO_A_Channel_2_RealStimulusDuration_µs = 128000.000000;\n",
      "->    27 REAL32, TargetedPixelDuration_µs = 25.000000;\n",
      "->    28 REAL32, RealPixelDuration_µs = 25.000000;\n",
      "->    29 UINT32, PixelBuffer_#0_Length = 2560;\n",
      "->    30 UINT32, PixelBuffer_#1_Length = 2560;\n",
      "->    31 UINT32, PixelBuffer_#2_Length = 2560;\n",
      "->    32 UINT32, Oversampling_Factor = 25;\n",
      "->    33 REAL32, MinVoltsAI = -1.000000;\n",
      "->    34 REAL32, MaxVoltsAI = 5.000000;\n",
      "->    35 UINT32, NumberOfFrames = 1500;\n",
      "->    36 UINT32,ScanMode=0;\n",
      "->    37 UINT32,FrameWidth=80;\n",
      "->    38 UINT32,FrameHeight=64;\n",
      "->    39 String,ScanPathFunc=XYScan2|5120|80|64|10|6|0|1;\n",
      "->    40 UINT32,PixRetraceLen=10;\n",
      "->    41 UINT32,XPixLineOffs=6;\n",
      "->    42 UINT32,ChunksPerFrame=2;\n",
      "->    43 UINT32,ScanType=10;\n",
      "->    44 UINT32,NSubPixOversamp=25;\n",
      "->    45 REAL32,Zoom=0.87;\n",
      "->    46 REAL32,Angle_deg=0;\n",
      "->    47 String,IgorGUIVer=0.0.38.02;\n",
      "->    48 REAL32,XCoord_um=-599.52;\n",
      "->    49 REAL32,YCoord_um=881.16;\n",
      "->    50 REAL32,ZCoord_um=6213.9;\n",
      "->    51 REAL32,ZStep_um=1;\n",
      "->    52 UINT32,NFrPerStep=1;\n",
      "->    53 REAL32,XOffset_V=0;\n",
      "->    54 REAL32,YOffset_V=0;\n",
      "->    55 UINT32,dZPixels=0;\n",
      "->    56 UINT32,ZPixRetraceLen=0;\n",
      "->    57 UINT32,ZPixLineOffs=0;\n",
      "->    58 UINT32,UsesZForFastScan=0;\n",
      "->    59 String,Comment=n/a;\n",
      "->    60 UINT32,SetupID=1;\n",
      "->    61 UINT32,LaserWavelength_nm=0;\n",
      "->    62 String,Objective=n/a;\n",
      "->    63 UINT32,ZLensScaler=1;\n",
      "->    64 UINT32,ZLensShifty=NaN;\n",
      "->    65 REAL32,AspectRatioFrame=1;\n",
      "->    66 UINT32,StimBufPerFr=1;\n",
      "->    67 UINT32, FrameCounter =              388;\n",
      "->    68 UINT32, UnusedValue =          6428160;\n",
      "->    69 UINT64, HeaderLengthInValuePairs =               71;\n",
      "->    70 UINT64, Header_length_in_bytes =            5362;\n"
     ]
    },
    {
     "ename": "AttributeError",
     "evalue": "InputChanMask",
     "output_type": "error",
     "traceback": [
      "\u001b[1;31m---------------------------------------------------------------------------\u001b[0m",
      "\u001b[1;31mAttributeError\u001b[0m                            Traceback (most recent call last)",
      "\u001b[1;32m~\\AppData\\Local\\Temp/ipykernel_5572/1252203483.py\u001b[0m in \u001b[0;36m<module>\u001b[1;34m\u001b[0m\n\u001b[0;32m      1\u001b[0m \u001b[0mh\u001b[0m \u001b[1;33m=\u001b[0m \u001b[0mSMH\u001b[0m\u001b[1;33m(\u001b[0m\u001b[1;33m)\u001b[0m\u001b[1;33m\u001b[0m\u001b[1;33m\u001b[0m\u001b[0m\n\u001b[1;32m----> 2\u001b[1;33m \u001b[0mh\u001b[0m\u001b[1;33m.\u001b[0m\u001b[0mload\u001b[0m\u001b[1;33m(\u001b[0m\u001b[1;34m\"M1_LR_GCL4_chirp\"\u001b[0m\u001b[1;33m,\u001b[0m \u001b[0mverbose\u001b[0m\u001b[1;33m=\u001b[0m\u001b[1;32mTrue\u001b[0m\u001b[1;33m)\u001b[0m\u001b[1;33m\u001b[0m\u001b[1;33m\u001b[0m\u001b[0m\n\u001b[0m",
      "\u001b[1;32m~\\Dropbox\\__GIT\\ScanM_support\\python-code\\scanm_smh.py\u001b[0m in \u001b[0;36mload\u001b[1;34m(self, fName, verbose)\u001b[0m\n\u001b[0;32m    165\u001b[0m       \u001b[0mnInCh\u001b[0m \u001b[1;33m=\u001b[0m \u001b[1;36m0\u001b[0m\u001b[1;33m\u001b[0m\u001b[1;33m\u001b[0m\u001b[0m\n\u001b[0;32m    166\u001b[0m       \u001b[0mpixBufLenList\u001b[0m \u001b[1;33m=\u001b[0m \u001b[1;33m[\u001b[0m\u001b[1;33m]\u001b[0m\u001b[1;33m\u001b[0m\u001b[1;33m\u001b[0m\u001b[0m\n\u001b[1;32m--> 167\u001b[1;33m       \u001b[0mmask\u001b[0m \u001b[1;33m=\u001b[0m \u001b[0mself\u001b[0m\u001b[1;33m.\u001b[0m\u001b[0mget\u001b[0m\u001b[1;33m(\u001b[0m\u001b[0mSCMIO_keys\u001b[0m\u001b[1;33m.\u001b[0m\u001b[0mInputChanMask\u001b[0m\u001b[1;33m)\u001b[0m\u001b[1;33m\u001b[0m\u001b[1;33m\u001b[0m\u001b[0m\n\u001b[0m\u001b[0;32m    168\u001b[0m       \u001b[1;32mfor\u001b[0m \u001b[0miInCh\u001b[0m \u001b[1;32min\u001b[0m \u001b[0mrange\u001b[0m\u001b[1;33m(\u001b[0m\u001b[0mSCMIO_maxInputChans\u001b[0m\u001b[1;33m)\u001b[0m\u001b[1;33m:\u001b[0m\u001b[1;33m\u001b[0m\u001b[1;33m\u001b[0m\u001b[0m\n\u001b[0;32m    169\u001b[0m         \u001b[1;32mif\u001b[0m \u001b[0mmask\u001b[0m \u001b[1;33m&\u001b[0m \u001b[1;33m(\u001b[0m\u001b[1;36m1\u001b[0m \u001b[1;33m<<\u001b[0m \u001b[0miInCh\u001b[0m\u001b[1;33m)\u001b[0m\u001b[1;33m:\u001b[0m\u001b[1;33m\u001b[0m\u001b[1;33m\u001b[0m\u001b[0m\n",
      "\u001b[1;32m~\\anaconda3\\lib\\enum.py\u001b[0m in \u001b[0;36m__getattr__\u001b[1;34m(cls, name)\u001b[0m\n\u001b[0;32m    427\u001b[0m             \u001b[1;32mreturn\u001b[0m \u001b[0mcls\u001b[0m\u001b[1;33m.\u001b[0m\u001b[0m_member_map_\u001b[0m\u001b[1;33m[\u001b[0m\u001b[0mname\u001b[0m\u001b[1;33m]\u001b[0m\u001b[1;33m\u001b[0m\u001b[1;33m\u001b[0m\u001b[0m\n\u001b[0;32m    428\u001b[0m         \u001b[1;32mexcept\u001b[0m \u001b[0mKeyError\u001b[0m\u001b[1;33m:\u001b[0m\u001b[1;33m\u001b[0m\u001b[1;33m\u001b[0m\u001b[0m\n\u001b[1;32m--> 429\u001b[1;33m             \u001b[1;32mraise\u001b[0m \u001b[0mAttributeError\u001b[0m\u001b[1;33m(\u001b[0m\u001b[0mname\u001b[0m\u001b[1;33m)\u001b[0m \u001b[1;32mfrom\u001b[0m \u001b[1;32mNone\u001b[0m\u001b[1;33m\u001b[0m\u001b[1;33m\u001b[0m\u001b[0m\n\u001b[0m\u001b[0;32m    430\u001b[0m \u001b[1;33m\u001b[0m\u001b[0m\n\u001b[0;32m    431\u001b[0m     \u001b[1;32mdef\u001b[0m \u001b[0m__getitem__\u001b[0m\u001b[1;33m(\u001b[0m\u001b[0mcls\u001b[0m\u001b[1;33m,\u001b[0m \u001b[0mname\u001b[0m\u001b[1;33m)\u001b[0m\u001b[1;33m:\u001b[0m\u001b[1;33m\u001b[0m\u001b[1;33m\u001b[0m\u001b[0m\n",
      "\u001b[1;31mAttributeError\u001b[0m: InputChanMask"
     ]
    }
   ],
   "source": [
    "h = SMH()\n",
    "h.load(\"M1_LR_GCL4_chirp\", verbose=True)"
   ]
  },
  {
   "cell_type": "code",
   "execution_count": 132,
   "id": "e26afd69",
   "metadata": {},
   "outputs": [
    {
     "data": {
      "text/plain": [
       "1"
      ]
     },
     "execution_count": 132,
     "metadata": {},
     "output_type": "execute_result"
    }
   ],
   "source": [
    "h.get(SCMIO_keys.InChan_PixBufLenList)"
   ]
  },
  {
   "cell_type": "code",
   "execution_count": 118,
   "id": "18dfd764-5622-49f3-87fa-c1a1b9bc0743",
   "metadata": {},
   "outputs": [
    {
     "data": {
      "text/plain": [
       "True"
      ]
     },
     "execution_count": 118,
     "metadata": {},
     "output_type": "execute_result"
    }
   ],
   "source": [
    "isinstance((1,2), tuple)"
   ]
  },
  {
   "cell_type": "code",
   "execution_count": 133,
   "id": "aafd1bc8-b2c3-4bed-95cc-7ddeeebdc51f",
   "metadata": {},
   "outputs": [],
   "source": [
    "a = np.array([0,1,2])"
   ]
  },
  {
   "cell_type": "code",
   "execution_count": 134,
   "id": "a4806855-9eaf-4a71-95f0-5229bce92ad6",
   "metadata": {},
   "outputs": [
    {
     "data": {
      "text/plain": [
       "3"
      ]
     },
     "execution_count": 134,
     "metadata": {},
     "output_type": "execute_result"
    }
   ],
   "source": [
    "len(a)"
   ]
  },
  {
   "cell_type": "code",
   "execution_count": null,
   "id": "7db2ddb0-39f4-4910-a24c-f121e1161213",
   "metadata": {},
   "outputs": [],
   "source": []
  }
 ],
 "metadata": {
  "kernelspec": {
   "display_name": "Python 3 (ipykernel)",
   "language": "python",
   "name": "python3"
  },
  "language_info": {
   "codemirror_mode": {
    "name": "ipython",
    "version": 3
   },
   "file_extension": ".py",
   "mimetype": "text/x-python",
   "name": "python",
   "nbconvert_exporter": "python",
   "pygments_lexer": "ipython3",
   "version": "3.9.7"
  }
 },
 "nbformat": 4,
 "nbformat_minor": 5
}
