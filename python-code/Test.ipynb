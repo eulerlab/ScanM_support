{
 "cells": [
  {
   "cell_type": "code",
   "execution_count": 1,
   "id": "06af065e",
   "metadata": {},
   "outputs": [],
   "source": [
    "%load_ext autoreload"
   ]
  },
  {
   "cell_type": "code",
   "execution_count": 65,
   "id": "7144fca0",
   "metadata": {},
   "outputs": [],
   "source": [
    "%autoreload\n",
    "\n",
    "import numpy as np\n",
    "from scanm_smh import SMH\n",
    "from scanm_global import *"
   ]
  },
  {
   "cell_type": "code",
   "execution_count": 68,
   "id": "e189aacb",
   "metadata": {},
   "outputs": [
    {
     "name": "stdout",
     "output_type": "stream",
     "text": [
      "Opening file `M1_LR_GCL4_chirp.smh`\n",
      "Loading pre-header ...\n",
      "Loading parameters (key-value pairs) ...\n",
      "71 key-value pair(s) found\n",
      "62 parameter(s) extracted\n",
      "Summary\n",
      "-------\n",
      "Scan    : mode, type   : 0, 10\n",
      "Pixel   : size         : 2 bytes/pixel\n",
      "          duration     : 25.0 us (25.0)\n",
      "Frame   : x-y size     : 80 x 64 pixels\n",
      "          x-offset     : 6 pixels\n",
      "          x-retrace    : 10 pixels\n",
      "          count        : 388 recorded\n",
      "          organisation : 2 pixel buffers/frame\n",
      "Stimulus: # of buffers : 3\n",
      "          mask         : 0111\n",
      "Input   : # of channels: 3\n",
      "          mask         : 0111\n",
      "Zoom factor            : 0.87\n",
      "Done.\n"
     ]
    },
    {
     "data": {
      "text/plain": [
       "True"
      ]
     },
     "execution_count": 68,
     "metadata": {},
     "output_type": "execute_result"
    }
   ],
   "source": [
    "h = SMH()\n",
    "h.load(\"M1_LR_GCL4_chirp\", verbose=False)"
   ]
  },
  {
   "cell_type": "code",
   "execution_count": null,
   "id": "4bfb2556-8052-4600-8c86-5f8f37afa62e",
   "metadata": {},
   "outputs": [],
   "source": []
  }
 ],
 "metadata": {
  "kernelspec": {
   "display_name": "Python 3",
   "language": "python",
   "name": "python3"
  },
  "language_info": {
   "codemirror_mode": {
    "name": "ipython",
    "version": 3
   },
   "file_extension": ".py",
   "mimetype": "text/x-python",
   "name": "python",
   "nbconvert_exporter": "python",
   "pygments_lexer": "ipython3",
   "version": "3.8.8"
  }
 },
 "nbformat": 4,
 "nbformat_minor": 5
}
