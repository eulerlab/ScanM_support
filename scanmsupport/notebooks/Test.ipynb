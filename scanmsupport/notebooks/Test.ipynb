{
 "cells": [
  {
   "cell_type": "code",
   "execution_count": 1,
   "id": "06af065e",
   "metadata": {},
   "outputs": [],
   "source": [
    "%load_ext autoreload\n",
    "%matplotlib inline "
   ]
  },
  {
   "cell_type": "code",
   "execution_count": 2,
   "id": "7144fca0",
   "metadata": {},
   "outputs": [],
   "source": [
    "from matplotlib import pyplot as plt\n",
    "from matplotlib import animation\n",
    "from IPython.display import HTML\n",
    "\n",
    "from scanmsupport.scanm.scanm_smp import SMP"
   ]
  },
  {
   "cell_type": "code",
   "execution_count": 3,
   "id": "e189aacb",
   "metadata": {},
   "outputs": [],
   "source": [
    "scmf = SMP()"
   ]
  },
  {
   "cell_type": "code",
   "execution_count": 4,
   "id": "2c6aa19b-d9d4-46d1-8b4d-595f7b1711bf",
   "metadata": {},
   "outputs": [
    {
     "name": "stdout",
     "output_type": "stream",
     "text": [
      "Processing file `../data/M1_LR_GCL4_chirp.smh`\n",
      "Loading pre-header ...\n",
      "Loading parameters (key-value pairs) ...\n",
      "71 key-value pair(s) found\n",
      "Correct parameters for older files ...\n",
      "68 parameter(s) extracted\n",
      "Done.\n"
     ]
    }
   ],
   "source": [
    "_ = scmf.loadSMH(\"../data/M1_LR_GCL4_chirp\", verbose=False)"
   ]
  },
  {
   "cell_type": "code",
   "execution_count": 5,
   "id": "4bfb2556-8052-4600-8c86-5f8f37afa62e",
   "metadata": {},
   "outputs": [
    {
     "name": "stdout",
     "output_type": "stream",
     "text": [
      "Processing file `../data/M1_LR_GCL4_chirp.smp`\n",
      "Loading post-header ...\n",
      "3 AI channel(s) (0b111)\n",
      "2224 of 1500 buffer(s) (each 2560 pixels) per channel\n",
      "2224 pixel bufs of 2224 read.\n",
      "Done.\n"
     ]
    }
   ],
   "source": [
    "_ = scmf.loadSMP()"
   ]
  },
  {
   "cell_type": "code",
   "execution_count": 6,
   "id": "4026f4dd-5428-4ea5-8ac3-e73e1cedf7e9",
   "metadata": {},
   "outputs": [
    {
     "name": "stdout",
     "output_type": "stream",
     "text": [
      "Summary\n",
      "-------\n",
      "Scan    : mode, type   : XYImage (0), 10\n",
      "Pixel   : size         : 2 bytes/pixel\n",
      "          duration     : 25.0 us (25.0)\n",
      "Frame   : x-y size     : 80 x 64 pixels\n",
      "          x-offset     : 6 pixels\n",
      "          x-retrace    : 10 pixels\n",
      "          count        : 1112 recorded\n",
      "          organisation : 2 pixel buffers/frame\n",
      "Stimulus: # of buffers : 3\n",
      "          mask         : 0111\n",
      "Input   : # of channels: 3\n",
      "          mask         : 0111\n",
      "Zoom factor            : 0.87\n"
     ]
    }
   ],
   "source": [
    "scmf.summary()"
   ]
  },
  {
   "cell_type": "code",
   "execution_count": 7,
   "id": "a53d4486-f20d-42b2-81f3-215755d4f5ea",
   "metadata": {},
   "outputs": [
    {
     "data": {
      "text/plain": [
       "{'ComputerName': [numpy.character, 1, 'euler14_01'],\n",
       " 'UserName': [numpy.character, 1, 'eulerlab'],\n",
       " 'OriginalPixelDataFileName': [numpy.character,\n",
       "  1,\n",
       "  'C:\\\\Users\\\\eulerlab\\\\Documents\\\\WaveMetrics\\\\Igor Pro 6 User Files\\\\ScanM_Data\\\\M1_LR_GCL4_chirp.smp'],\n",
       " 'DateStamp': [numpy.character, 1, '2021-12-17'],\n",
       " 'TimeStamp': [numpy.character, 1, '15-38-2-475'],\n",
       " 'ScanMproductVersionAndTargetOS': [numpy.character, 1, '0.0.36.61_4'],\n",
       " 'CallingProcessPath': [numpy.character,\n",
       "  1,\n",
       "  'C:\\\\Program Files (x86)\\\\WaveMetrics\\\\Igor Pro Folder\\\\Igor.exe'],\n",
       " 'CallingProcessVersion': [numpy.character, 1, '6.3.7.2'],\n",
       " 'PixelSizeInBytes': [numpy.uint32, 1, 2],\n",
       " 'StimulusChannelMask': [numpy.uint32, 1, 7],\n",
       " 'MinVoltsAO': [numpy.float64, 1, -4.0],\n",
       " 'MaxVoltsAO': [numpy.float64, 1, 4.0],\n",
       " 'MaxStimulusBufferMapLength': [numpy.uint32, 1, 1],\n",
       " 'NumberOfStimulusBuffers': [numpy.uint32, 1, 3],\n",
       " 'InputChannelMask': [numpy.uint32, 1, 7],\n",
       " 'TargetedPixelDuration_µs': [numpy.float64, 1, 25.0],\n",
       " 'RealPixelDuration_µs': [numpy.float64, 1, 25.0],\n",
       " 'Oversampling_Factor': [numpy.uint32, 1, 25],\n",
       " 'MinVoltsAI': [numpy.float64, 1, -1.0],\n",
       " 'MaxVoltsAI': [numpy.float64, 1, 5.0],\n",
       " 'NumberOfFrames': [numpy.uint32, 1, 1500],\n",
       " 'ScanMode': [numpy.uint32, 1, 0],\n",
       " 'FrameWidth': [numpy.uint32, 1, 80],\n",
       " 'FrameHeight': [numpy.uint32, 1, 64],\n",
       " 'ScanPathFunc': [numpy.character,\n",
       "  8,\n",
       "  ['XYScan2', '5120', '80', '64', '10', '6', '0', '1']],\n",
       " 'PixRetraceLen': [numpy.uint32, 1, 10],\n",
       " 'XPixLineOffs': [numpy.uint32, 1, 6],\n",
       " 'ChunksPerFrame': [numpy.uint32, 1, 2],\n",
       " 'ScanType': [numpy.uint32, 1, 10],\n",
       " 'NSubPixOversamp': [numpy.uint32, 1, 25],\n",
       " 'Zoom': [numpy.float64, 1, 0.87],\n",
       " 'Angle_deg': [numpy.float64, 1, 0.0],\n",
       " 'IgorGUIVer': [numpy.character, 1, '0.0.38.02'],\n",
       " 'XCoord_um': [numpy.float64, 1, -599.52],\n",
       " 'YCoord_um': [numpy.float64, 1, 881.16],\n",
       " 'ZCoord_um': [numpy.float64, 1, 6213.9],\n",
       " 'ZStep_um': [numpy.float64, 1, 1.0],\n",
       " 'NFrPerStep': [numpy.uint32, 1, 1],\n",
       " 'XOffset_V': [numpy.float64, 1, 0.0],\n",
       " 'YOffset_V': [numpy.float64, 1, 0.0],\n",
       " 'dZPixels': [numpy.uint32, 1, 0],\n",
       " 'ZPixRetraceLen': [numpy.uint32, 1, 0],\n",
       " 'ZPixLineOffs': [numpy.uint32, 1, 0],\n",
       " 'UsesZForFastScan': [numpy.uint32, 1, 0],\n",
       " 'Comment': [numpy.character, 1, 'n/a'],\n",
       " 'SetupID': [numpy.uint32, 1, 1],\n",
       " 'LaserWavelength_nm': [numpy.uint32, 1, 0],\n",
       " 'Objective': [numpy.character, 1, 'n/a'],\n",
       " 'ZLensScaler': [numpy.uint32, 1, 1],\n",
       " 'ZLensShifty': [None, 1, 1],\n",
       " 'AspectRatioFrame': [numpy.float64, 1, 1],\n",
       " 'StimBufPerFr': [numpy.uint32, 1, 1],\n",
       " 'FrameCounter': [numpy.uint32, 1, 388],\n",
       " 'UnusedValue': [numpy.uint32, 1, 6428160],\n",
       " 'HeaderLengthInValuePairs': [numpy.uint64, 1, 71],\n",
       " 'Header_length_in_bytes': [numpy.uint64, 1, 5362],\n",
       " 'StimBufLenList': [numpy.uint32, 3, array([5120, 5120, 5120])],\n",
       " 'TargetedStimDurList': [numpy.float64, 3, array([128000., 128000., 128000.])],\n",
       " 'RealStimDurList': [numpy.float64, 3, array([128000., 128000., 128000.])],\n",
       " 'StimBufMapEntries': [numpy.uint64,\n",
       "  (32, 128),\n",
       "  array([[0, 0, 0, ..., 0, 0, 0],\n",
       "         [1, 0, 0, ..., 0, 0, 0],\n",
       "         [2, 0, 0, ..., 0, 0, 0],\n",
       "         ...,\n",
       "         [0, 0, 0, ..., 0, 0, 0],\n",
       "         [0, 0, 0, ..., 0, 0, 0],\n",
       "         [0, 0, 0, ..., 0, 0, 0]])],\n",
       " 'NumberOfInputChans': [numpy.uint32, 1, 3],\n",
       " 'InChan_PixBufLenList': [numpy.uint32, 3, array([2560, 2560, 2560])],\n",
       " 'nImgPerFr': [numpy.uint32, 1, 1],\n",
       " 'dxFrDecoded': [numpy.uint32, 1, 80],\n",
       " 'dyFrDecoded': [numpy.uint32, 1, 64],\n",
       " 'dzFrDecoded': [numpy.uint32, 1, 0],\n",
       " 'NumberOfPixBufsSet': [numpy.uint32, 1, 1500],\n",
       " 'PixBufCounter': [numpy.uint32, 1, 388]}"
      ]
     },
     "execution_count": 7,
     "metadata": {},
     "output_type": "execute_result"
    }
   ],
   "source": [
    "scmf._kvPairDict"
   ]
  },
  {
   "cell_type": "code",
   "execution_count": 8,
   "id": "708e0576-1d87-4c2b-9a7a-545885c1f098",
   "metadata": {},
   "outputs": [
    {
     "data": {
      "image/png": "[encoded data removed]",
      "text/plain": [
       "<Figure size 432x288 with 1 Axes>"
      ]
     },
     "metadata": {
      "needs_background": "light"
     },
     "output_type": "display_data"
    }
   ],
   "source": [
    "fr = scmf.getData(ch=0, crop=False)[0]\n",
    "\n",
    "plt.imshow(fr, interpolation='nearest')\n",
    "plt.show()"
   ]
  },
  {
   "cell_type": "code",
   "execution_count": 9,
   "id": "38e2073c-e070-41a0-addd-ca4454e1256e",
   "metadata": {},
   "outputs": [
    {
     "data": {
      "image/png": "[encoded data removed]",
      "text/plain": [
       "<Figure size 432x288 with 1 Axes>"
      ]
     },
     "metadata": {
      "needs_background": "light"
     },
     "output_type": "display_data"
    }
   ],
   "source": [
    "fr = scmf.getData(ch=1, crop=True)[30]\n",
    "\n",
    "plt.imshow(fr, interpolation='nearest')\n",
    "plt.show()"
   ]
  },
  {
   "cell_type": "code",
   "execution_count": null,
   "id": "be374a0f-534b-412d-8aa6-e6ca999d19f0",
   "metadata": {},
   "outputs": [],
   "source": [
    "video = scmf.getData(ch=0, crop=True)\n",
    "\n",
    "fig = plt.figure()\n",
    "im = plt.imshow(video[0,:,:])\n",
    "\n",
    "plt.close() # this is required to not display the generated image\n",
    "\n",
    "def init():\n",
    "    im.set_data(video[0,:,:])\n",
    "\n",
    "def animate(i):\n",
    "    im.set_data(video[i,:,:])\n",
    "    return im\n",
    "\n",
    "anim = animation.FuncAnimation(fig, animate, init_func=init, frames=video.shape[0],\n",
    "                               interval=50)\n",
    "HTML(anim.to_html5_video())"
   ]
  },
  {
   "cell_type": "code",
   "execution_count": null,
   "id": "376d1db9-6e06-420b-8dcb-6166501b3617",
   "metadata": {},
   "outputs": [],
   "source": []
  }
 ],
 "metadata": {
  "kernelspec": {
   "display_name": "Python 3",
   "language": "python",
   "name": "python3"
  },
  "language_info": {
   "codemirror_mode": {
    "name": "ipython",
    "version": 3
   },
   "file_extension": ".py",
   "mimetype": "text/x-python",
   "name": "python",
   "nbconvert_exporter": "python",
   "pygments_lexer": "ipython3",
   "version": "3.7.5"
  }
 },
 "nbformat": 4,
 "nbformat_minor": 5
}